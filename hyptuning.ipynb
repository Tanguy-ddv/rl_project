{
 "cells": [
  {
   "cell_type": "code",
   "execution_count": 14,
   "metadata": {},
   "outputs": [
    {
     "name": "stderr",
     "output_type": "stream",
     "text": [
      "/home/tanguy/Documents/rl_project/.conda/lib/python3.9/site-packages/tqdm/auto.py:21: TqdmWarning: IProgress not found. Please update jupyter and ipywidgets. See https://ipywidgets.readthedocs.io/en/stable/user_install.html\n",
      "  from .autonotebook import tqdm as notebook_tqdm\n"
     ]
    }
   ],
   "source": [
    "import gym\n",
    "from stable_baselines3 import PPO\n",
    "import env.custom_hopper\n",
    "import optuna\n",
    "from stable_baselines3.common.evaluation import evaluate_policy"
   ]
  },
  {
   "cell_type": "markdown",
   "metadata": {},
   "source": [
    "# First grid search for hp tuning. \n",
    "lr $\\in [10^{-4}, 10^{-3}]$, n_steps $\\in \\{ 2048, 4096 \\}$, batch_size $\\in \\{ 32 ,64 ,128 \\}$, gamma $\\in \\{ 0.98, 0.985, 0.99, 0.995 \\} $, clip_range $\\in \\{ 0.2, 0.25, 0.3 \\}$"
   ]
  },
  {
   "cell_type": "code",
   "execution_count": 2,
   "metadata": {},
   "outputs": [],
   "source": [
    "def objective(trial: optuna.Trial):\n",
    "    env = gym.make('CustomHopper-target-v0')\n",
    "    env.seed(0)  # Set seed for reproducibility\n",
    "\n",
    "    # Create the PPO model with the current set of hyperparameters\n",
    "    model = PPO(\n",
    "        \"MlpPolicy\",\n",
    "        env,\n",
    "        learning_rate=trial.suggest_float(\"learning_rate\",1e-4, 1e-3, log=True),\n",
    "        n_steps=trial.suggest_categorical(\"n_steps\",[2048,4096]),\n",
    "        batch_size=trial.suggest_categorical(\"batch_size\", [32,64,128]),\n",
    "        gamma=trial.suggest_float(\"gamma\", 0.98, 0.995, step=0.005),\n",
    "        clip_range=trial.suggest_float('clip_range', 0.2, 0.3, step=0.05),\n",
    "        verbose=0,\n",
    "        seed=0  # Set seed for reproducibility\n",
    "    )\n",
    "\n",
    "    # Train the model\n",
    "    model.learn(total_timesteps=50000)\n",
    "\n",
    "    # Evaluate the model\n",
    "    mean_reward, _ = evaluate_policy(model, env, n_eval_episodes=500)\n",
    "\n",
    "    # Close the environment\n",
    "    env.close()\n",
    "\n",
    "    return mean_reward"
   ]
  },
  {
   "cell_type": "code",
   "execution_count": 3,
   "metadata": {},
   "outputs": [
    {
     "name": "stderr",
     "output_type": "stream",
     "text": [
      "[I 2024-05-19 16:37:10,191] A new study created in memory with name: ppo hp tuning\n"
     ]
    },
    {
     "name": "stderr",
     "output_type": "stream",
     "text": [
      "/home/tanguy/Documents/rl_project/.conda/lib/python3.9/site-packages/stable_baselines3/common/evaluation.py:67: UserWarning: Evaluation environment is not wrapped with a ``Monitor`` wrapper. This may result in reporting modified episode lengths and rewards, if other wrappers happen to modify these. Consider wrapping environment first with ``Monitor`` wrapper.\n",
      "  warnings.warn(\n",
      "[I 2024-05-19 17:04:08,440] Trial 0 finished with value: 183.987406244874 and parameters: {'learning_rate': 0.00012870856063994707, 'n_steps': 2048, 'batch_size': 64, 'gamma': 0.985, 'clip_range': 0.3}. Best is trial 0 with value: 183.987406244874.\n",
      "[I 2024-05-19 17:16:50,525] Trial 1 finished with value: 395.92882120132447 and parameters: {'learning_rate': 0.0005404909242786294, 'n_steps': 2048, 'batch_size': 32, 'gamma': 0.98, 'clip_range': 0.3}. Best is trial 1 with value: 395.92882120132447.\n",
      "[I 2024-05-19 17:21:05,351] Trial 2 finished with value: 465.7629426689148 and parameters: {'learning_rate': 0.0003541519163936499, 'n_steps': 2048, 'batch_size': 32, 'gamma': 0.995, 'clip_range': 0.25}. Best is trial 2 with value: 465.7629426689148.\n",
      "[I 2024-05-19 17:34:51,580] Trial 3 finished with value: 502.5444833610058 and parameters: {'learning_rate': 0.0007269767004633608, 'n_steps': 2048, 'batch_size': 64, 'gamma': 0.98, 'clip_range': 0.3}. Best is trial 3 with value: 502.5444833610058.\n",
      "[I 2024-05-19 17:39:27,858] Trial 5 finished with value: 219.68342815470695 and parameters: {'learning_rate': 0.00015588647761683504, 'n_steps': 4096, 'batch_size': 128, 'gamma': 0.99, 'clip_range': 0.2}. Best is trial 3 with value: 502.5444833610058.\n",
      "[I 2024-05-19 17:51:49,530] Trial 6 finished with value: 179.0843656001091 and parameters: {'learning_rate': 0.00015103118885173656, 'n_steps': 2048, 'batch_size': 128, 'gamma': 0.985, 'clip_range': 0.2}. Best is trial 3 with value: 502.5444833610058.\n",
      "[I 2024-05-19 17:52:36,906] Trial 4 finished with value: 780.8956257560253 and parameters: {'learning_rate': 0.0005981676386457512, 'n_steps': 2048, 'batch_size': 32, 'gamma': 0.99, 'clip_range': 0.25}. Best is trial 4 with value: 780.8956257560253.\n",
      "[I 2024-05-19 18:07:50,276] Trial 7 finished with value: 261.05438637685774 and parameters: {'learning_rate': 0.00010349084056813409, 'n_steps': 4096, 'batch_size': 32, 'gamma': 0.98, 'clip_range': 0.25}. Best is trial 4 with value: 780.8956257560253.\n",
      "[I 2024-05-19 18:15:03,559] Trial 9 finished with value: 283.42212045073506 and parameters: {'learning_rate': 0.00023042473955081066, 'n_steps': 4096, 'batch_size': 64, 'gamma': 0.985, 'clip_range': 0.2}. Best is trial 4 with value: 780.8956257560253.\n",
      "[I 2024-05-19 18:25:51,079] Trial 8 finished with value: 943.6932565779686 and parameters: {'learning_rate': 0.000664337704188303, 'n_steps': 2048, 'batch_size': 64, 'gamma': 0.99, 'clip_range': 0.3}. Best is trial 8 with value: 943.6932565779686.\n",
      "[I 2024-05-19 18:43:02,777] Trial 10 finished with value: 1086.5068522319793 and parameters: {'learning_rate': 0.0007648356072621082, 'n_steps': 2048, 'batch_size': 64, 'gamma': 0.995, 'clip_range': 0.25}. Best is trial 10 with value: 1086.5068522319793.\n",
      "[I 2024-05-19 18:50:09,011] Trial 11 finished with value: 663.9755088031292 and parameters: {'learning_rate': 0.0004496563075154283, 'n_steps': 2048, 'batch_size': 32, 'gamma': 0.985, 'clip_range': 0.3}. Best is trial 10 with value: 1086.5068522319793.\n",
      "[I 2024-05-19 18:53:22,432] Trial 12 finished with value: 618.6126676445008 and parameters: {'learning_rate': 0.0009657036561174112, 'n_steps': 4096, 'batch_size': 64, 'gamma': 0.995, 'clip_range': 0.3}. Best is trial 10 with value: 1086.5068522319793.\n",
      "[I 2024-05-19 19:07:06,347] Trial 13 finished with value: 441.34498584866526 and parameters: {'learning_rate': 0.0009456007303824241, 'n_steps': 2048, 'batch_size': 64, 'gamma': 0.995, 'clip_range': 0.25}. Best is trial 10 with value: 1086.5068522319793.\n",
      "[I 2024-05-19 19:19:57,715] Trial 14 finished with value: 651.2888481820821 and parameters: {'learning_rate': 0.0009513771252926824, 'n_steps': 2048, 'batch_size': 64, 'gamma': 0.995, 'clip_range': 0.25}. Best is trial 10 with value: 1086.5068522319793.\n",
      "[I 2024-05-19 19:26:46,694] Trial 15 finished with value: 772.4005855515003 and parameters: {'learning_rate': 0.0009277439235737433, 'n_steps': 2048, 'batch_size': 64, 'gamma': 0.995, 'clip_range': 0.25}. Best is trial 10 with value: 1086.5068522319793.\n",
      "[I 2024-05-19 19:32:16,097] Trial 16 finished with value: 332.84884990525245 and parameters: {'learning_rate': 0.00030946891875501654, 'n_steps': 2048, 'batch_size': 64, 'gamma': 0.99, 'clip_range': 0.25}. Best is trial 10 with value: 1086.5068522319793.\n",
      "[I 2024-05-19 19:42:18,866] Trial 17 finished with value: 337.6219830822945 and parameters: {'learning_rate': 0.0002728765243553758, 'n_steps': 2048, 'batch_size': 64, 'gamma': 0.99, 'clip_range': 0.25}. Best is trial 10 with value: 1086.5068522319793.\n",
      "[I 2024-05-19 19:52:37,941] Trial 18 finished with value: 443.56885832095145 and parameters: {'learning_rate': 0.0002808179297531995, 'n_steps': 2048, 'batch_size': 64, 'gamma': 0.99, 'clip_range': 0.3}. Best is trial 10 with value: 1086.5068522319793.\n",
      "[I 2024-05-19 19:58:58,122] Trial 19 finished with value: 928.2754877841472 and parameters: {'learning_rate': 0.0006973068048749646, 'n_steps': 2048, 'batch_size': 128, 'gamma': 0.99, 'clip_range': 0.3}. Best is trial 10 with value: 1086.5068522319793.\n",
      "[I 2024-05-19 20:00:42,024] Trial 20 finished with value: 417.61456204605105 and parameters: {'learning_rate': 0.000664854738563775, 'n_steps': 4096, 'batch_size': 128, 'gamma': 0.99, 'clip_range': 0.3}. Best is trial 10 with value: 1086.5068522319793.\n",
      "[I 2024-05-19 20:05:23,181] Trial 21 finished with value: 334.4087326529026 and parameters: {'learning_rate': 0.0007096177649852985, 'n_steps': 4096, 'batch_size': 128, 'gamma': 0.995, 'clip_range': 0.2}. Best is trial 10 with value: 1086.5068522319793.\n",
      "[I 2024-05-19 20:11:13,752] Trial 22 finished with value: 334.4443438026905 and parameters: {'learning_rate': 0.00042343303682977986, 'n_steps': 4096, 'batch_size': 128, 'gamma': 0.995, 'clip_range': 0.2}. Best is trial 10 with value: 1086.5068522319793.\n",
      "[I 2024-05-19 20:11:51,847] Trial 23 finished with value: 315.0096505460739 and parameters: {'learning_rate': 0.00045461056405454085, 'n_steps': 2048, 'batch_size': 128, 'gamma': 0.995, 'clip_range': 0.3}. Best is trial 10 with value: 1086.5068522319793.\n",
      "[I 2024-05-19 20:16:05,338] Trial 24 finished with value: 323.7732180531025 and parameters: {'learning_rate': 0.00046489905710719664, 'n_steps': 2048, 'batch_size': 128, 'gamma': 0.99, 'clip_range': 0.3}. Best is trial 10 with value: 1086.5068522319793.\n",
      "[I 2024-05-19 20:22:20,333] Trial 26 finished with value: 283.1645676870346 and parameters: {'learning_rate': 0.0005449999581038922, 'n_steps': 2048, 'batch_size': 128, 'gamma': 0.99, 'clip_range': 0.3}. Best is trial 10 with value: 1086.5068522319793.\n",
      "[I 2024-05-19 20:23:50,065] Trial 25 finished with value: 602.6876864545345 and parameters: {'learning_rate': 0.0005035778083983521, 'n_steps': 2048, 'batch_size': 128, 'gamma': 0.99, 'clip_range': 0.3}. Best is trial 10 with value: 1086.5068522319793.\n",
      "[I 2024-05-19 20:35:53,902] Trial 27 finished with value: 1101.025852767229 and parameters: {'learning_rate': 0.0007772659318769568, 'n_steps': 2048, 'batch_size': 64, 'gamma': 0.99, 'clip_range': 0.25}. Best is trial 27 with value: 1101.025852767229.\n",
      "[I 2024-05-19 20:43:18,563] Trial 28 finished with value: 506.9013900436163 and parameters: {'learning_rate': 0.0007416535015156692, 'n_steps': 2048, 'batch_size': 64, 'gamma': 0.985, 'clip_range': 0.25}. Best is trial 27 with value: 1101.025852767229.\n",
      "[I 2024-05-19 20:43:23,899] Trial 29 finished with value: 409.6312891149521 and parameters: {'learning_rate': 0.0008286943306938095, 'n_steps': 2048, 'batch_size': 64, 'gamma': 0.985, 'clip_range': 0.25}. Best is trial 27 with value: 1101.025852767229.\n",
      "[I 2024-05-19 20:57:44,889] Trial 30 finished with value: 446.27524459075926 and parameters: {'learning_rate': 0.0008049235563581416, 'n_steps': 2048, 'batch_size': 64, 'gamma': 0.985, 'clip_range': 0.25}. Best is trial 27 with value: 1101.025852767229.\n",
      "[I 2024-05-19 21:03:32,933] Trial 31 finished with value: 619.9810801696777 and parameters: {'learning_rate': 0.0008060814794363007, 'n_steps': 2048, 'batch_size': 64, 'gamma': 0.985, 'clip_range': 0.25}. Best is trial 27 with value: 1101.025852767229.\n",
      "[I 2024-05-19 21:04:21,899] Trial 32 finished with value: 652.8184677500725 and parameters: {'learning_rate': 0.00037277902104775344, 'n_steps': 2048, 'batch_size': 64, 'gamma': 0.995, 'clip_range': 0.25}. Best is trial 27 with value: 1101.025852767229.\n",
      "[I 2024-05-19 21:09:18,588] Trial 33 finished with value: 452.9676008995771 and parameters: {'learning_rate': 0.000627820277620502, 'n_steps': 2048, 'batch_size': 64, 'gamma': 0.99, 'clip_range': 0.25}. Best is trial 27 with value: 1101.025852767229.\n",
      "[I 2024-05-19 21:16:36,453] Trial 34 finished with value: 613.0712907989025 and parameters: {'learning_rate': 0.0006227949120183222, 'n_steps': 2048, 'batch_size': 64, 'gamma': 0.99, 'clip_range': 0.3}. Best is trial 27 with value: 1101.025852767229.\n",
      "[I 2024-05-19 21:16:53,105] Trial 35 finished with value: 585.0881055352688 and parameters: {'learning_rate': 0.0006178945785787866, 'n_steps': 2048, 'batch_size': 64, 'gamma': 0.99, 'clip_range': 0.3}. Best is trial 27 with value: 1101.025852767229.\n",
      "[I 2024-05-19 21:20:08,919] Trial 36 finished with value: 542.2722032315731 and parameters: {'learning_rate': 0.0005973832169923331, 'n_steps': 2048, 'batch_size': 64, 'gamma': 0.99, 'clip_range': 0.3}. Best is trial 27 with value: 1101.025852767229.\n",
      "[I 2024-05-19 21:26:17,948] Trial 37 finished with value: 413.86950497174263 and parameters: {'learning_rate': 0.000546972453383092, 'n_steps': 2048, 'batch_size': 32, 'gamma': 0.99, 'clip_range': 0.3}. Best is trial 27 with value: 1101.025852767229.\n",
      "[I 2024-05-19 21:26:52,894] Trial 38 finished with value: 446.7191660087109 and parameters: {'learning_rate': 0.0005510635421818525, 'n_steps': 2048, 'batch_size': 32, 'gamma': 0.99, 'clip_range': 0.3}. Best is trial 27 with value: 1101.025852767229.\n",
      "[I 2024-05-19 21:32:54,590] Trial 39 finished with value: 827.3312245393992 and parameters: {'learning_rate': 0.0005294362187589406, 'n_steps': 2048, 'batch_size': 32, 'gamma': 0.98, 'clip_range': 0.3}. Best is trial 27 with value: 1101.025852767229.\n",
      "[I 2024-05-19 21:35:19,527] Trial 41 finished with value: 370.84726857554915 and parameters: {'learning_rate': 0.00019314070672494187, 'n_steps': 2048, 'batch_size': 128, 'gamma': 0.98, 'clip_range': 0.25}. Best is trial 27 with value: 1101.025852767229.\n",
      "[I 2024-05-19 21:39:15,215] Trial 40 finished with value: 679.3710131325722 and parameters: {'learning_rate': 0.0008335812564092912, 'n_steps': 2048, 'batch_size': 32, 'gamma': 0.98, 'clip_range': 0.25}. Best is trial 27 with value: 1101.025852767229.\n",
      "[I 2024-05-19 21:39:58,759] Trial 42 finished with value: 211.728182693243 and parameters: {'learning_rate': 0.0002221408446233388, 'n_steps': 2048, 'batch_size': 128, 'gamma': 0.995, 'clip_range': 0.25}. Best is trial 27 with value: 1101.025852767229.\n",
      "[I 2024-05-19 21:45:56,134] Trial 43 finished with value: 383.01522261238097 and parameters: {'learning_rate': 0.0007301620055435386, 'n_steps': 2048, 'batch_size': 32, 'gamma': 0.98, 'clip_range': 0.3}. Best is trial 27 with value: 1101.025852767229.\n",
      "[I 2024-05-19 21:49:07,887] Trial 44 finished with value: 269.0893172745705 and parameters: {'learning_rate': 0.0007072846340673937, 'n_steps': 2048, 'batch_size': 32, 'gamma': 0.98, 'clip_range': 0.3}. Best is trial 27 with value: 1101.025852767229.\n",
      "[I 2024-05-19 21:50:48,210] Trial 45 finished with value: 585.1560569803714 and parameters: {'learning_rate': 0.0007120593593822835, 'n_steps': 2048, 'batch_size': 32, 'gamma': 0.98, 'clip_range': 0.3}. Best is trial 27 with value: 1101.025852767229.\n",
      "[I 2024-05-19 22:00:34,724] Trial 46 finished with value: 451.09665172219275 and parameters: {'learning_rate': 0.00039664466975918554, 'n_steps': 2048, 'batch_size': 32, 'gamma': 0.985, 'clip_range': 0.3}. Best is trial 27 with value: 1101.025852767229.\n",
      "[I 2024-05-19 22:22:09,954] Trial 47 finished with value: 338.8990660829544 and parameters: {'learning_rate': 0.0003955792892926118, 'n_steps': 4096, 'batch_size': 32, 'gamma': 0.985, 'clip_range': 0.3}. Best is trial 27 with value: 1101.025852767229.\n",
      "[I 2024-05-19 22:25:59,810] Trial 48 finished with value: 352.2003917429447 and parameters: {'learning_rate': 0.0003966871602336152, 'n_steps': 4096, 'batch_size': 32, 'gamma': 0.985, 'clip_range': 0.2}. Best is trial 27 with value: 1101.025852767229.\n",
      "[I 2024-05-19 22:29:52,544] Trial 49 finished with value: 400.33070539712907 and parameters: {'learning_rate': 0.0008703891533962383, 'n_steps': 4096, 'batch_size': 64, 'gamma': 0.99, 'clip_range': 0.2}. Best is trial 27 with value: 1101.025852767229.\n"
     ]
    }
   ],
   "source": [
    "study = optuna.create_study(direction='maximize', study_name='ppo hp tuning')\n",
    "study.optimize(objective, n_trials=50, n_jobs=3)"
   ]
  },
  {
   "cell_type": "code",
   "execution_count": 4,
   "metadata": {},
   "outputs": [
    {
     "name": "stdout",
     "output_type": "stream",
     "text": [
      "{'learning_rate': 0.0007772659318769568, 'n_steps': 2048, 'batch_size': 64, 'gamma': 0.99, 'clip_range': 0.25}\n",
      "1101.025852767229\n"
     ]
    }
   ],
   "source": [
    "print(study.best_params)\n",
    "print(study.best_value)"
   ]
  },
  {
   "cell_type": "markdown",
   "metadata": {},
   "source": [
    "## Plot results"
   ]
  },
  {
   "cell_type": "code",
   "execution_count": 3,
   "metadata": {},
   "outputs": [],
   "source": [
    "with open(\"hp_tuning_output\") as f:\n",
    "    lines = f.readlines()\n",
    "import json\n",
    "data = []\n",
    "for line in lines:\n",
    "    reward = float(line.split(' ')[8])\n",
    "    line = line.replace(\"'\", '\"')\n",
    "    s = line[line.find('{'): line.find('}')+1]\n",
    "    dict = json.loads(s)\n",
    "    dict['reward'] = reward\n",
    "    data.append(dict)"
   ]
  },
  {
   "cell_type": "markdown",
   "metadata": {},
   "source": [
    "batch size: size of the point\n",
    "gamma: color\n",
    "clp range: shape\n",
    "n steps: dark/light"
   ]
  },
  {
   "cell_type": "code",
   "execution_count": 1,
   "metadata": {},
   "outputs": [],
   "source": [
    "markers = {0.3 : '*', 0.25 : 'v', 0.2 : 'o'} # clip range\n",
    "colors = {0.985 : (1,0.2,0.2), 0.98 : (0.2,0.8,0.2), 0.99 : (0.2,0.2,1), 0.995 : (1,0.2,1)} # gamma\n",
    "def get_color(gamma, n_steps):\n",
    "    c = colors[gamma]\n",
    "    r = n_steps/2048\n",
    "    return c[0]/r, c[1]/r, c[2]/r"
   ]
  },
  {
   "cell_type": "code",
   "execution_count": 12,
   "metadata": {},
   "outputs": [
    {
     "data": {
      "text/plain": [
       "Text(0, 0.5, 'Cumulated reward')"
      ]
     },
     "execution_count": 12,
     "metadata": {},
     "output_type": "execute_result"
    },
    {
     "data": {
      "image/png": "[encoded data removed]",
      "text/plain": [
       "<Figure size 640x480 with 1 Axes>"
      ]
     },
     "metadata": {},
     "output_type": "display_data"
    }
   ],
   "source": [
    "import matplotlib.pyplot as plt\n",
    "fig, ax = plt.subplots()\n",
    "for d in data:\n",
    "    ax.scatter(\n",
    "        [d['learning_rate']],\n",
    "        [d['reward']],\n",
    "        c=[get_color(d['gamma'], d['n_steps'])],\n",
    "        marker=markers[d['clip_range']],\n",
    "        s=(d['batch_size']/8)**2\n",
    "    )\n",
    "ax.set_xscale('log')\n",
    "ax.tick_params(axis='both', labelsize=14)\n",
    "ax.set_xlabel(\"Learning rate\", fontsize=15)\n",
    "ax.set_ylabel(\"Cumulated reward\", fontsize=15)"
   ]
  },
  {
   "cell_type": "markdown",
   "metadata": {},
   "source": [
    "Fine grid search for hp tuning. \n",
    "lr $\\in [6.5 \\times 10^{-4}, 8.5 \\times 10^{-4}]$, n_steps = 2048, batch_size = 24, gamma > 0.99, clip_range $\\in [0.25, 0.3 ]$"
   ]
  },
  {
   "cell_type": "code",
   "execution_count": 15,
   "metadata": {},
   "outputs": [],
   "source": [
    "def objective(trial: optuna.Trial):\n",
    "    env = gym.make('CustomHopper-target-v0')\n",
    "    env.seed(0)  # Set seed for reproducibility\n",
    "\n",
    "    # Create the PPO model with the current set of hyperparameters\n",
    "    model = PPO(\n",
    "        \"MlpPolicy\",\n",
    "        env,\n",
    "        learning_rate=trial.suggest_float(\"learning_rate\", 6.5e-4, 8.5e-4),\n",
    "        n_steps=2048,\n",
    "        batch_size=64,\n",
    "        gamma=trial.suggest_float(\"gamma\", 0.99, 0.995, step=0.001),\n",
    "        clip_range=trial.suggest_float('clip_range', 0.24, 0.31, step=0.01),\n",
    "        verbose=0,\n",
    "        seed=0  # Set seed for reproducibility\n",
    "    )\n",
    "\n",
    "    # Train the model\n",
    "    model.learn(total_timesteps=50000)\n",
    "\n",
    "    # Evaluate the model\n",
    "    mean_reward, _ = evaluate_policy(model, env, n_eval_episodes=500)\n",
    "\n",
    "    # Close the environment\n",
    "    env.close()\n",
    "\n",
    "    return mean_reward"
   ]
  },
  {
   "cell_type": "code",
   "execution_count": 16,
   "metadata": {},
   "outputs": [
    {
     "name": "stderr",
     "output_type": "stream",
     "text": [
      "[I 2024-05-20 13:59:20,041] A new study created in memory with name: ppo hp tuning\n",
      "/home/tanguy/Documents/rl_project/.conda/lib/python3.9/site-packages/stable_baselines3/common/evaluation.py:67: UserWarning: Evaluation environment is not wrapped with a ``Monitor`` wrapper. This may result in reporting modified episode lengths and rewards, if other wrappers happen to modify these. Consider wrapping environment first with ``Monitor`` wrapper.\n",
      "  warnings.warn(\n",
      "[I 2024-05-20 14:36:42,795] Trial 0 finished with value: 464.12103247272967 and parameters: {'learning_rate': 0.0006683927533841489, 'gamma': 0.991, 'clip_range': 0.3}. Best is trial 0 with value: 464.12103247272967.\n",
      "[I 2024-05-20 14:43:52,907] Trial 1 finished with value: 702.2345547544957 and parameters: {'learning_rate': 0.0008220533091987435, 'gamma': 0.992, 'clip_range': 0.24}. Best is trial 1 with value: 702.2345547544957.\n",
      "[I 2024-05-20 14:44:56,110] Trial 2 finished with value: 699.3077689943314 and parameters: {'learning_rate': 0.0007775587241455772, 'gamma': 0.99, 'clip_range': 0.26}. Best is trial 1 with value: 702.2345547544957.\n",
      "[I 2024-05-20 15:33:22,744] Trial 5 finished with value: 752.4258606858253 and parameters: {'learning_rate': 0.0007777963024067127, 'gamma': 0.99, 'clip_range': 0.27}. Best is trial 5 with value: 752.4258606858253.\n",
      "[I 2024-05-20 15:36:21,385] Trial 3 finished with value: 1127.8309637992381 and parameters: {'learning_rate': 0.0008007089086092589, 'gamma': 0.99, 'clip_range': 0.25}. Best is trial 3 with value: 1127.8309637992381.\n",
      "[I 2024-05-20 15:50:36,866] Trial 4 finished with value: 1122.9570525114536 and parameters: {'learning_rate': 0.0007159802186778278, 'gamma': 0.994, 'clip_range': 0.26}. Best is trial 3 with value: 1127.8309637992381.\n",
      "[I 2024-05-20 16:36:09,856] Trial 7 finished with value: 1141.829881569624 and parameters: {'learning_rate': 0.0007945280477054489, 'gamma': 0.993, 'clip_range': 0.27}. Best is trial 7 with value: 1141.829881569624.\n",
      "[I 2024-05-20 16:45:44,781] Trial 6 finished with value: 1186.2483376600742 and parameters: {'learning_rate': 0.0007356081086642098, 'gamma': 0.993, 'clip_range': 0.27}. Best is trial 6 with value: 1186.2483376600742.\n",
      "[I 2024-05-20 17:04:56,774] Trial 8 finished with value: 1136.012134258032 and parameters: {'learning_rate': 0.0007125732579185769, 'gamma': 0.995, 'clip_range': 0.31}. Best is trial 6 with value: 1186.2483376600742.\n",
      "[I 2024-05-20 17:31:21,470] Trial 9 finished with value: 986.6874963169098 and parameters: {'learning_rate': 0.0006594389205312243, 'gamma': 0.992, 'clip_range': 0.3}. Best is trial 6 with value: 1186.2483376600742.\n"
     ]
    }
   ],
   "source": [
    "study = optuna.create_study(direction='maximize', study_name='ppo hp tuning')\n",
    "study.optimize(objective, n_trials=50, n_jobs=3)"
   ]
  },
  {
   "cell_type": "code",
   "execution_count": null,
   "metadata": {},
   "outputs": [],
   "source": [
    "print(study.best_params)\n",
    "print(study.best_value)"
   ]
  }
 ],
 "metadata": {
  "kernelspec": {
   "display_name": "Python 3",
   "language": "python",
   "name": "python3"
  },
  "language_info": {
   "codemirror_mode": {
    "name": "ipython",
    "version": 3
   },
   "file_extension": ".py",
   "mimetype": "text/x-python",
   "name": "python",
   "nbconvert_exporter": "python",
   "pygments_lexer": "ipython3",
   "version": "3.9.19"
  }
 },
 "nbformat": 4,
 "nbformat_minor": 2
}
