{
 "cells": [
  {
   "cell_type": "code",
   "execution_count": 3,
   "metadata": {},
   "outputs": [],
   "source": [
    "from ppo_eval import train_ppo\n",
    "import gym\n",
    "from stable_baselines3.common.evaluation import evaluate_policy\n",
    "from stable_baselines3 import PPO\n",
    "from env.custom_randomized_hopper import register_uniform\n",
    "SEED = 2024"
   ]
  },
  {
   "cell_type": "code",
   "execution_count": 2,
   "metadata": {},
   "outputs": [],
   "source": [
    "test_env = gym.make('CustomHopper-target-v0')\n",
    "SEED = 2024\n",
    "test_env.seed(SEED)\n",
    "def train_test(upper, lower):\n",
    "    if upper <= lower:\n",
    "        return 0\n",
    "    NAME = f\"PPO-{upper}-{lower}\"\n",
    "    register_uniform(lower, upper, NAME+'-v0')\n",
    "    train_env = gym.make(NAME+'-v0')\n",
    "    train_env.seed(SEED)\n",
    "    model = train_ppo(train_env, 'outputs/hpppo3/'+NAME+'.mdl', total_timesteps=100_000, seed=SEED)\n",
    "    mean_reward, _ = evaluate_policy(model, test_env, 500)\n",
    "    train_env.close()\n",
    "    return mean_reward"
   ]
  },
  {
   "cell_type": "code",
   "execution_count": 3,
   "metadata": {},
   "outputs": [
    {
     "name": "stdout",
     "output_type": "stream",
     "text": [
      "lower , upper , reward\n"
     ]
    },
    {
     "name": "stderr",
     "output_type": "stream",
     "text": [
      "/home/tanguy/Documents/rl_project/.conda/lib/python3.9/site-packages/stable_baselines3/common/evaluation.py:67: UserWarning: Evaluation environment is not wrapped with a ``Monitor`` wrapper. This may result in reporting modified episode lengths and rewards, if other wrappers happen to modify these. Consider wrapping environment first with ``Monitor`` wrapper.\n",
      "  warnings.warn(\n"
     ]
    },
    {
     "name": "stdout",
     "output_type": "stream",
     "text": [
      "0 , 2 , 607.4439175126553\n",
      "0 , 3 , 714.46647531569\n",
      "0 , 4 , 504.75279491591454\n",
      "0 , 5 , 1008.694168118\n",
      "0 , 6 , 738.4618785221577\n",
      "0 , 7 , 634.2950039770603\n",
      "1 , 2 , 678.7542459352017\n",
      "1 , 3 , 597.4115056524276\n",
      "1 , 4 , 530.4205758154392\n",
      "1 , 5 , 624.470080632925\n",
      "1 , 6 , 795.7478674685955\n",
      "1 , 7 , 524.7929969906806\n"
     ]
    }
   ],
   "source": [
    "print('lower', ',', 'upper', ',', 'reward')\n",
    "for lower in range(0,2):\n",
    "    for upper in range(2,8):\n",
    "        reward = train_test(upper, lower)\n",
    "        print(lower, ',', upper, ',', reward)"
   ]
  },
  {
   "cell_type": "code",
   "execution_count": 4,
   "metadata": {},
   "outputs": [
    {
     "name": "stderr",
     "output_type": "stream",
     "text": [
      "/home/tanguy/Documents/rl_project/.conda/lib/python3.9/site-packages/stable_baselines3/common/evaluation.py:67: UserWarning: Evaluation environment is not wrapped with a ``Monitor`` wrapper. This may result in reporting modified episode lengths and rewards, if other wrappers happen to modify these. Consider wrapping environment first with ``Monitor`` wrapper.\n",
      "  warnings.warn(\n"
     ]
    },
    {
     "name": "stdout",
     "output_type": "stream",
     "text": [
      "623.9022865312099\n",
      "662.3121277980805\n",
      "528.982909342289\n",
      "965.876386853695\n",
      "723.3848240457773\n",
      "627.0763291893005\n",
      "646.7921201131344\n",
      "572.6827495675087\n",
      "488.0630101811886\n",
      "579.8843036289215\n",
      "720.7437115867137\n",
      "543.6871635973454\n",
      "656.6927761690616\n",
      "674.9954237930775\n",
      "722.5357319562435\n",
      "589.3476199934482\n",
      "398.50816074514387\n",
      "603.9091497292519\n",
      "455.2276556019783\n",
      "716.8090647587776\n",
      "649.9074740970135\n"
     ]
    }
   ],
   "source": [
    "test_env = gym.make('CustomHopper-target2-v0')\n",
    "test_env.seed(SEED)\n",
    "for lower in range(0,4):\n",
    "    for upper in range(2,8):\n",
    "        try:\n",
    "            NAME = f\"PPO-{upper}-{lower}\"\n",
    "            model = PPO.load('outputs/hpppo3/'+NAME+'.mdl')\n",
    "            mean_reward, _ = evaluate_policy(model, test_env, 500)\n",
    "            print(mean_reward)\n",
    "        except Exception:\n",
    "            pass"
   ]
  },
  {
   "cell_type": "code",
   "execution_count": 9,
   "metadata": {},
   "outputs": [
    {
     "data": {
      "text/html": [
       "<div>\n",
       "<style scoped>\n",
       "    .dataframe tbody tr th:only-of-type {\n",
       "        vertical-align: middle;\n",
       "    }\n",
       "\n",
       "    .dataframe tbody tr th {\n",
       "        vertical-align: top;\n",
       "    }\n",
       "\n",
       "    .dataframe thead th {\n",
       "        text-align: right;\n",
       "    }\n",
       "</style>\n",
       "<table border=\"1\" class=\"dataframe\">\n",
       "  <thead>\n",
       "    <tr style=\"text-align: right;\">\n",
       "      <th></th>\n",
       "      <th>reward</th>\n",
       "      <th>lower</th>\n",
       "      <th>upper</th>\n",
       "    </tr>\n",
       "  </thead>\n",
       "  <tbody>\n",
       "    <tr>\n",
       "      <th>0</th>\n",
       "      <td>623.902287</td>\n",
       "      <td>0</td>\n",
       "      <td>2</td>\n",
       "    </tr>\n",
       "    <tr>\n",
       "      <th>1</th>\n",
       "      <td>662.312128</td>\n",
       "      <td>0</td>\n",
       "      <td>3</td>\n",
       "    </tr>\n",
       "    <tr>\n",
       "      <th>2</th>\n",
       "      <td>528.982909</td>\n",
       "      <td>0</td>\n",
       "      <td>4</td>\n",
       "    </tr>\n",
       "    <tr>\n",
       "      <th>3</th>\n",
       "      <td>965.876387</td>\n",
       "      <td>0</td>\n",
       "      <td>5</td>\n",
       "    </tr>\n",
       "    <tr>\n",
       "      <th>4</th>\n",
       "      <td>723.384824</td>\n",
       "      <td>0</td>\n",
       "      <td>6</td>\n",
       "    </tr>\n",
       "  </tbody>\n",
       "</table>\n",
       "</div>"
      ],
      "text/plain": [
       "       reward  lower  upper\n",
       "0  623.902287      0      2\n",
       "1  662.312128      0      3\n",
       "2  528.982909      0      4\n",
       "3  965.876387      0      5\n",
       "4  723.384824      0      6"
      ]
     },
     "execution_count": 9,
     "metadata": {},
     "output_type": "execute_result"
    }
   ],
   "source": [
    "import pandas as pd\n",
    "results = pd.read_csv(\"outputs/hpppo3/results2.csv\")\n",
    "import seaborn as sns\n",
    "results.columns\n",
    "lowers = []\n",
    "uppers = []\n",
    "for lower in range(0,4):\n",
    "    for upper in range(2,8):\n",
    "        if lower < upper:\n",
    "            lowers.append(lower)\n",
    "            uppers.append(upper)\n",
    "results['lower'] = lowers\n",
    "results['upper'] = uppers\n",
    "results.head()"
   ]
  },
  {
   "cell_type": "code",
   "execution_count": 10,
   "metadata": {},
   "outputs": [
    {
     "data": {
      "text/plain": [
       "<Axes: xlabel='upper', ylabel='lower'>"
      ]
     },
     "execution_count": 10,
     "metadata": {},
     "output_type": "execute_result"
    },
    {
     "data": {
      "image/png": "[encoded data removed]",
      "text/plain": [
       "<Figure size 640x480 with 2 Axes>"
      ]
     },
     "metadata": {},
     "output_type": "display_data"
    }
   ],
   "source": [
    "sns.heatmap(results.pivot(index='lower', columns='upper', values='reward'), cmap='YlGnBu', annot=True, fmt='.0f', vmin=0)"
   ]
  }
 ],
 "metadata": {
  "kernelspec": {
   "display_name": "Python 3",
   "language": "python",
   "name": "python3"
  },
  "language_info": {
   "codemirror_mode": {
    "name": "ipython",
    "version": 3
   },
   "file_extension": ".py",
   "mimetype": "text/x-python",
   "name": "python",
   "nbconvert_exporter": "python",
   "pygments_lexer": "ipython3",
   "version": "3.9.-1"
  }
 },
 "nbformat": 4,
 "nbformat_minor": 2
}
