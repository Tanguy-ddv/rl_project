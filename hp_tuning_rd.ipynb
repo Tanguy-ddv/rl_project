{
 "cells": [
  {
   "cell_type": "code",
   "execution_count": 1,
   "metadata": {},
   "outputs": [
    {
     "name": "stderr",
     "output_type": "stream",
     "text": [
      "/home/tanguy/Documents/rl_project/.conda/lib/python3.9/site-packages/tqdm/auto.py:21: TqdmWarning: IProgress not found. Please update jupyter and ipywidgets. See https://ipywidgets.readthedocs.io/en/stable/user_install.html\n",
      "  from .autonotebook import tqdm as notebook_tqdm\n"
     ]
    }
   ],
   "source": [
    "from ppo_eval import train_ppo\n",
    "import optuna\n",
    "import gym\n",
    "from stable_baselines3.common.evaluation import evaluate_policy\n",
    "from env.custom_randomized_hopper import register_uniform"
   ]
  },
  {
   "cell_type": "code",
   "execution_count": 2,
   "metadata": {},
   "outputs": [],
   "source": [
    "test_env = gym.make('CustomHopper-target-v0')\n",
    "def objective_uniform(trial: optuna.Trial):\n",
    "    upper = trial.suggest_int(\"upper\", 2, 6, step=1)\n",
    "    lower = trial.suggest_int(\"lower\", 0, 3, step=1)\n",
    "    if upper <= lower:\n",
    "        return 0\n",
    "    NAME = f\"PPO-{upper}-{lower}\"\n",
    "    register_uniform(lower, upper, NAME+'-v0')\n",
    "    train_env = gym.make(NAME+'-v0')\n",
    "    model = train_ppo(train_env, 'outputs/hpppo/'+NAME+'.mdl', total_timesteps=300_000)\n",
    "    mean_reward, _ = evaluate_policy(model, test_env, 500)\n",
    "    train_env.close()\n",
    "    return mean_reward"
   ]
  },
  {
   "cell_type": "code",
   "execution_count": 3,
   "metadata": {},
   "outputs": [
    {
     "name": "stderr",
     "output_type": "stream",
     "text": [
      "[I 2024-05-25 11:39:38,820] A new study created in memory with name: ppo+rd hp tuning\n",
      "[I 2024-05-25 11:39:38,987] Trial 2 finished with value: 0.0 and parameters: {'upper': 3, 'lower': 3}. Best is trial 2 with value: 0.0.\n",
      "[I 2024-05-25 11:39:39,038] Trial 3 finished with value: 0.0 and parameters: {'upper': 3, 'lower': 3}. Best is trial 2 with value: 0.0.\n"
     ]
    }
   ],
   "source": [
    "study = optuna.create_study(direction='maximize', study_name='ppo+rd hp tuning')\n",
    "study.optimize(objective_uniform, n_trials=50, n_jobs=3)"
   ]
  }
 ],
 "metadata": {
  "kernelspec": {
   "display_name": "Python 3",
   "language": "python",
   "name": "python3"
  },
  "language_info": {
   "codemirror_mode": {
    "name": "ipython",
    "version": 3
   },
   "file_extension": ".py",
   "mimetype": "text/x-python",
   "name": "python",
   "nbconvert_exporter": "python",
   "pygments_lexer": "ipython3",
   "version": "3.9.19"
  }
 },
 "nbformat": 4,
 "nbformat_minor": 2
}
