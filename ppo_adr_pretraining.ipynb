{
 "cells": [
  {
   "cell_type": "code",
   "execution_count": 6,
   "metadata": {},
   "outputs": [],
   "source": [
    "from session.PPOsession import PPOSession\n",
    "from domain_randomization.adr_callback import ADRCallback\n",
    "from agent.train_and_test.train_test_callback import TrainTestCallback\n",
    "from env import *\n",
    "N_ts = 500_000"
   ]
  },
  {
   "cell_type": "code",
   "execution_count": 7,
   "metadata": {},
   "outputs": [
    {
     "name": "stdout",
     "output_type": "stream",
     "text": [
      " 112 episodes completed.h\n"
     ]
    }
   ],
   "source": [
    "s1 = PPOSession(ADR, 'outputs/adr_ppo_pretrained')\n",
    "s1.load_agent()\n",
    "s1.load_callback(ADRCallback, nenvs=10, ref_env_path=TARGET)\n",
    "s1.train(N_ts*2)"
   ]
  },
  {
   "cell_type": "code",
   "execution_count": null,
   "metadata": {},
   "outputs": [],
   "source": [
    "s2 = PPOSession(ADR, 'outputs/adr_ppo_pretrained')\n",
    "s2.load_agent()\n",
    "s2.load_callback(TrainTestCallback, test_env_path = TARGET, test_every=10)\n",
    "s2.train(N_ts)\n",
    "s2.load_callback(ADRCallback, nenvs=10)\n",
    "s2.train(N_ts)"
   ]
  }
 ],
 "metadata": {
  "kernelspec": {
   "display_name": "Python 3",
   "language": "python",
   "name": "python3"
  },
  "language_info": {
   "codemirror_mode": {
    "name": "ipython",
    "version": 3
   },
   "file_extension": ".py",
   "mimetype": "text/x-python",
   "name": "python",
   "nbconvert_exporter": "python",
   "pygments_lexer": "ipython3",
   "version": "3.9.19"
  }
 },
 "nbformat": 4,
 "nbformat_minor": 2
}
