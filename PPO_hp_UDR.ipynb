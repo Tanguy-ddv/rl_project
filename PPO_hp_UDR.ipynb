{
 "cells": [
  {
   "cell_type": "code",
   "execution_count": null,
   "metadata": {},
   "outputs": [],
   "source": [
    "import os\n",
    "import gym\n",
    "import numpy as np\n",
    "import matplotlib.pyplot as plt\n",
    "from stable_baselines3.common.evaluation import evaluate_policy\n",
    "from stable_baselines3 import PPO\n",
    "from env import *\n",
    "from domain_randomization.callbacks import UDRCallback\n",
    "\n",
    "seed_value = 42\n",
    "deltas = [0.25, 0.5, 0.75]\n",
    "total_timesteps = 5000000\n",
    "n_episodes = 10\n",
    "eval_freq = 5000\n",
    "\n",
    "models_dir = f\"models_delta_UDR_5M_seed:{seed_value}\"\n",
    "os.makedirs(models_dir, exist_ok=True)\n"
   ]
  },
  {
   "cell_type": "code",
   "execution_count": null,
   "metadata": {},
   "outputs": [],
   "source": [
    "results = {delta: [] for delta in deltas}\n",
    "timesteps = np.arange(eval_freq, total_timesteps + eval_freq, eval_freq)\n",
    "\n",
    "results_file_path = os.path.join(models_dir, \"result.txt\")\n",
    "with open(results_file_path, \"a\") as results_file:\n",
    "    for delta in deltas:\n",
    "        \n",
    "        random_source_env = gym.make(UDR)\n",
    "        random_source_env.seed(seed_value)\n",
    "        \n",
    "        model = PPO(\"MlpPolicy\", env=random_source_env, device='cpu', verbose=0, seed=seed_value)\n",
    "        callback = UDRCallback(model, delta=delta)\n",
    "        test_env_target = gym.make('CustomHopper-target-v0')\n",
    "        test_env_target.seed(seed_value)\n",
    "\n",
    "        for timestep in timesteps:\n",
    "            model.learn(total_timesteps=eval_freq, reset_num_timesteps=False, callback=callback)\n",
    "\n",
    "            mean_reward, _ = evaluate_policy(model, test_env_target, n_eval_episodes=n_episodes, render=False)\n",
    "            results[delta].append(mean_reward)\n",
    "            log_message = f\"Delta: {delta}, Timesteps: {timestep}, Mean Reward: {mean_reward}\\n\"\n",
    "            print(log_message)\n",
    "            results_file.write(log_message)"
   ]
  },
  {
   "cell_type": "code",
   "execution_count": null,
   "metadata": {},
   "outputs": [],
   "source": [
    "# Plot results\n",
    "plt.figure(figsize=(12, 6))\n",
    "for delta in deltas:\n",
    "    plt.plot(timesteps, results[delta], marker='o', markersize=5, linewidth=2, label=f'Delta: {delta}')\n",
    "\n",
    "plt.xlabel('Training Timesteps')\n",
    "plt.ylabel('Mean Reward of Test in Target Environment')\n",
    "plt.legend()\n",
    "plt.grid(True)\n",
    "plot_path = os.path.join(models_dir, \"performance_plot.png\")\n",
    "plt.savefig(plot_path)\n",
    "plt.show()"
   ]
  }
 ],
 "metadata": {
  "language_info": {
   "name": "python"
  }
 },
 "nbformat": 4,
 "nbformat_minor": 2
}
