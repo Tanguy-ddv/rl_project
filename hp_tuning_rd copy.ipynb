{
 "cells": [
  {
   "cell_type": "code",
   "execution_count": 1,
   "metadata": {},
   "outputs": [
    {
     "data": {
      "text/plain": [
       "[2024]"
      ]
     },
     "execution_count": 1,
     "metadata": {},
     "output_type": "execute_result"
    }
   ],
   "source": [
    "from ppo_eval import train_ppo\n",
    "import gym\n",
    "from stable_baselines3.common.evaluation import evaluate_policy\n",
    "from env.custom_randomized_hopper import register_uniform\n",
    "SEED = 2024\n",
    "test_env = gym.make('CustomHopper-target-v0')\n",
    "test_env.seed(SEED)"
   ]
  },
  {
   "cell_type": "code",
   "execution_count": 2,
   "metadata": {},
   "outputs": [],
   "source": [
    "\n",
    "def train_test(upper, lower):\n",
    "    if upper <= lower:\n",
    "        return 0\n",
    "    NAME = f\"PPO-{upper}-{lower}\"\n",
    "    register_uniform(lower, upper, NAME+'-v0')\n",
    "    train_env = gym.make(NAME+'-v0')\n",
    "    train_env.seed(SEED)\n",
    "    model = train_ppo(train_env, 'outputs/hpppo3/'+NAME+'.mdl', total_timesteps=100_000, seed=SEED)\n",
    "    mean_reward, _ = evaluate_policy(model, test_env, 500)\n",
    "    train_env.close()\n",
    "    return mean_reward"
   ]
  },
  {
   "cell_type": "code",
   "execution_count": 3,
   "metadata": {},
   "outputs": [
    {
     "name": "stdout",
     "output_type": "stream",
     "text": [
      "lower , upper , reward\n",
      "2 , 2 , 0\n"
     ]
    },
    {
     "name": "stderr",
     "output_type": "stream",
     "text": [
      "/home/tanguy/Documents/rl_project/.conda/lib/python3.9/site-packages/stable_baselines3/common/evaluation.py:67: UserWarning: Evaluation environment is not wrapped with a ``Monitor`` wrapper. This may result in reporting modified episode lengths and rewards, if other wrappers happen to modify these. Consider wrapping environment first with ``Monitor`` wrapper.\n",
      "  warnings.warn(\n"
     ]
    },
    {
     "name": "stdout",
     "output_type": "stream",
     "text": [
      "2 , 3 , 618.4085981602668\n"
     ]
    }
   ],
   "source": [
    "print('lower', ',', 'upper', ',', 'reward')\n",
    "for lower in range(2,4):\n",
    "    for upper in range(2,8):\n",
    "        reward = train_test(upper, lower)\n",
    "        print(lower, ',', upper, ',', reward)"
   ]
  }
 ],
 "metadata": {
  "kernelspec": {
   "display_name": "Python 3",
   "language": "python",
   "name": "python3"
  },
  "language_info": {
   "codemirror_mode": {
    "name": "ipython",
    "version": 3
   },
   "file_extension": ".py",
   "mimetype": "text/x-python",
   "name": "python",
   "nbconvert_exporter": "python",
   "pygments_lexer": "ipython3",
   "version": "3.9.19"
  }
 },
 "nbformat": 4,
 "nbformat_minor": 2
}
