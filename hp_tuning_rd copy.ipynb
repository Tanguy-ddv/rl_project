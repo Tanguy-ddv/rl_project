{
 "cells": [
  {
   "cell_type": "code",
   "execution_count": 4,
   "metadata": {},
   "outputs": [
    {
     "data": {
      "text/plain": [
       "[2024]"
      ]
     },
     "execution_count": 4,
     "metadata": {},
     "output_type": "execute_result"
    }
   ],
   "source": [
    "from ppo_eval import train_ppo\n",
    "import gym\n",
    "from stable_baselines3.common.evaluation import evaluate_policy\n",
    "from env.custom_randomized_hopper import register_uniform\n",
    "from stable_baselines3 import PPO\n",
    "SEED = 2024\n",
    "test_env = gym.make('CustomHopper-target-v0')\n",
    "test_env.seed(SEED)"
   ]
  },
  {
   "cell_type": "code",
   "execution_count": 2,
   "metadata": {},
   "outputs": [],
   "source": [
    "\n",
    "def train_test(upper, lower):\n",
    "    if upper <= lower:\n",
    "        return 0\n",
    "    NAME = f\"PPO-{upper}-{lower}\"\n",
    "    register_uniform(lower, upper, NAME+'-v0')\n",
    "    train_env = gym.make(NAME+'-v0')\n",
    "    train_env.seed(SEED)\n",
    "    model = train_ppo(train_env, 'outputs/hpppo3/'+NAME+'.mdl', total_timesteps=100_000, seed=SEED)\n",
    "    mean_reward, _ = evaluate_policy(model, test_env, 500)\n",
    "    train_env.close()\n",
    "    return mean_reward"
   ]
  },
  {
   "cell_type": "code",
   "execution_count": 3,
   "metadata": {},
   "outputs": [
    {
     "name": "stdout",
     "output_type": "stream",
     "text": [
      "lower , upper , reward\n",
      "2 , 2 , 0\n"
     ]
    },
    {
     "name": "stderr",
     "output_type": "stream",
     "text": [
      "/home/tanguy/Documents/rl_project/.conda/lib/python3.9/site-packages/stable_baselines3/common/evaluation.py:67: UserWarning: Evaluation environment is not wrapped with a ``Monitor`` wrapper. This may result in reporting modified episode lengths and rewards, if other wrappers happen to modify these. Consider wrapping environment first with ``Monitor`` wrapper.\n",
      "  warnings.warn(\n"
     ]
    },
    {
     "name": "stdout",
     "output_type": "stream",
     "text": [
      "2 , 3 , 618.4085981602668\n",
      "2 , 4 , 625.1664276326894\n",
      "2 , 5 , 662.0823256220817\n",
      "2 , 6 , 541.4937225980759\n",
      "2 , 7 , 501.1569235339165\n",
      "3 , 2 , 0\n",
      "3 , 3 , 0\n",
      "3 , 4 , 587.3699141852856\n",
      "3 , 5 , 396.9818737196922\n",
      "3 , 6 , 670.7953718109131\n",
      "3 , 7 , 606.9067550563813\n"
     ]
    }
   ],
   "source": [
    "print('lower', ',', 'upper', ',', 'reward')\n",
    "for lower in range(2,4):\n",
    "    for upper in range(2,8):\n",
    "        reward = train_test(upper, lower)\n",
    "        print(lower, ',', upper, ',', reward)"
   ]
  },
  {
   "cell_type": "code",
   "execution_count": 5,
   "metadata": {},
   "outputs": [
    {
     "name": "stderr",
     "output_type": "stream",
     "text": [
      "/home/tanguy/Documents/rl_project/.conda/lib/python3.9/site-packages/stable_baselines3/common/evaluation.py:67: UserWarning: Evaluation environment is not wrapped with a ``Monitor`` wrapper. This may result in reporting modified episode lengths and rewards, if other wrappers happen to modify these. Consider wrapping environment first with ``Monitor`` wrapper.\n",
      "  warnings.warn(\n"
     ]
    },
    {
     "name": "stdout",
     "output_type": "stream",
     "text": [
      "961.7427837395668\n",
      "510.8384316267967\n",
      "746.5397105083465\n",
      "960.3359324138164\n",
      "527.3002620754241\n",
      "885.0896927413941\n",
      "843.788715784192\n",
      "828.5009765689373\n",
      "1133.6291131625176\n",
      "880.2679787242413\n",
      "586.7967863731384\n",
      "580.0294818031788\n",
      "825.6315178933144\n",
      "650.529184956789\n",
      "763.5349161317348\n",
      "821.2293159286976\n",
      "885.2165180575847\n",
      "835.8796528489589\n",
      "1084.6572154533862\n",
      "1310.4507147052288\n",
      "704.216646160841\n"
     ]
    }
   ],
   "source": [
    "test_env = gym.make('CustomHopper-target2-v0')\n",
    "test_env.seed(SEED)\n",
    "for lower in range(0,4):\n",
    "    for upper in range(2,8):\n",
    "        try:\n",
    "            NAME = f\"PPO-{upper}-{lower}\"\n",
    "            model = PPO.load('outputs/hpppo2/'+NAME+'.mdl')\n",
    "            mean_reward, _ = evaluate_policy(model, test_env, 500)\n",
    "            print(mean_reward)\n",
    "        except Exception:\n",
    "            pass"
   ]
  },
  {
   "cell_type": "code",
   "execution_count": null,
   "metadata": {},
   "outputs": [],
   "source": []
  }
 ],
 "metadata": {
  "kernelspec": {
   "display_name": "Python 3",
   "language": "python",
   "name": "python3"
  },
  "language_info": {
   "codemirror_mode": {
    "name": "ipython",
    "version": 3
   },
   "file_extension": ".py",
   "mimetype": "text/x-python",
   "name": "python",
   "nbconvert_exporter": "python",
   "pygments_lexer": "ipython3",
   "version": "3.9.19"
  }
 },
 "nbformat": 4,
 "nbformat_minor": 2
}
